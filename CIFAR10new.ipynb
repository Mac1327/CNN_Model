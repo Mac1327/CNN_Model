{
  "nbformat": 4,
  "nbformat_minor": 0,
  "metadata": {
    "accelerator": "GPU",
    "colab": {
      "name": "CIFAR10.ipynb",
      "provenance": [],
      "toc_visible": true
    },
    "kernelspec": {
      "display_name": "Python 3.7.9 64-bit ('Py3_7': conda)",
      "name": "python3"
    },
    "language_info": {
      "codemirror_mode": {
        "name": "ipython",
        "version": 3
      },
      "file_extension": ".py",
      "mimetype": "text/x-python",
      "name": "python",
      "nbconvert_exporter": "python",
      "pygments_lexer": "ipython3",
      "version": "3.7.9-final"
    }
  },
  "cells": [
    {
      "cell_type": "code",
      "metadata": {
        "id": "TeVdqJTvLzcC"
      },
      "source": [
        "import pandas as pd\n",
        "import numpy as np\n",
        "import matplotlib.pyplot as plt\n",
        "import seaborn as sns\n",
        "import tensorflow as tf \n",
        "from tensorflow import keras\n",
        "from tensorflow.keras.preprocessing.image import ImageDataGenerator\n",
        "from tensorflow.keras.optimizers import RMSprop\n",
        "from keras.utils import np_utils\n",
        "import os"
      ],
      "execution_count": null,
      "outputs": []
    },
    {
      "cell_type": "markdown",
      "metadata": {
        "id": "7iQoQK7QLzcG"
      },
      "source": [
        "# Importing and Prepping the Data"
      ]
    },
    {
      "cell_type": "code",
      "metadata": {
        "id": "-F-hKX25LzcG"
      },
      "source": [
        "n_classes=10\n",
        "batch_size=32\n",
        "epochs=100"
      ],
      "execution_count": null,
      "outputs": []
    },
    {
      "cell_type": "code",
      "metadata": {
        "colab": {
          "base_uri": "https://localhost:8080/"
        },
        "id": "lSwEAzFTLzcG",
        "outputId": "cdbd98f6-1b84-4adc-f91e-4e31574cfac1"
      },
      "source": [
        "(X_train, y_train), (X_test, y_test) = keras.datasets.cifar10.load_data()"
      ],
      "execution_count": null,
      "outputs": [
        {
          "output_type": "stream",
          "text": [
            "Downloading data from https://www.cs.toronto.edu/~kriz/cifar-10-python.tar.gz\n",
            "170500096/170498071 [==============================] - 2s 0us/step\n"
          ],
          "name": "stdout"
        }
      ]
    },
    {
      "cell_type": "code",
      "metadata": {
        "id": "dQZoyUrgLzcG"
      },
      "source": [
        "#X_train = X_train_full[:40000] / 255\n",
        "#X_val = X_train_full[40000:] / 255\n",
        "\n",
        "#y_train = y_train_full[:40000] \n",
        "#y_val = y_train_full[40000:] \n",
        "\n",
        "#X_test = X_test /255"
      ],
      "execution_count": null,
      "outputs": []
    },
    {
      "cell_type": "code",
      "metadata": {
        "id": "Dz-5FRP7LzcH"
      },
      "source": [
        "#X_train = X_train.astype('float32')\n",
        "#X_val = X_val.astype('float32')\n",
        "#X_test = X_test.astype('float32')"
      ],
      "execution_count": null,
      "outputs": []
    },
    {
      "cell_type": "code",
      "metadata": {
        "id": "CyJdO8SvLzcH"
      },
      "source": [
        "X_train = X_train.astype('float32') /255\n",
        "X_test = X_test.astype('float32') /255"
      ],
      "execution_count": null,
      "outputs": []
    },
    {
      "cell_type": "code",
      "metadata": {
        "id": "FESxdSF4LzcH"
      },
      "source": [
        "y_train = np_utils.to_categorical(y_train,n_classes)\n",
        "y_test = np_utils.to_categorical(y_test,n_classes)"
      ],
      "execution_count": null,
      "outputs": []
    },
    {
      "cell_type": "code",
      "metadata": {
        "colab": {
          "base_uri": "https://localhost:8080/",
          "height": 266
        },
        "id": "HohawqneLzcH",
        "outputId": "5908aa0e-201f-41c2-91ed-4b82f3ddbb85"
      },
      "source": [
        "print(y_train[50])\n",
        "plt.imshow(X_train[50])\n",
        "plt.axis('off')\n",
        "plt.show()"
      ],
      "execution_count": null,
      "outputs": [
        {
          "output_type": "stream",
          "text": [
            "[0. 0. 0. 0. 0. 0. 0. 0. 0. 1.]\n"
          ],
          "name": "stdout"
        },
        {
          "output_type": "display_data",
          "data": {
            "image/png": "[encoded data removed]",
            "text/plain": [
              "<Figure size 432x288 with 1 Axes>"
            ]
          },
          "metadata": {
            "tags": []
          }
        }
      ]
    },
    {
      "cell_type": "code",
      "metadata": {
        "id": "oVB1dtrrLzcI"
      },
      "source": [
        "keras.backend.clear_session()\n",
        "np.random.seed(0)\n",
        "tf.random.set_seed(0)"
      ],
      "execution_count": null,
      "outputs": []
    },
    {
      "cell_type": "markdown",
      "metadata": {
        "id": "RdZDCKQ-LzcI"
      },
      "source": [
        "# CNN Model"
      ]
    },
    {
      "cell_type": "code",
      "metadata": {
        "id": "BG8ZLEt4LzcJ"
      },
      "source": [
        "model = keras.models.Sequential([\n",
        "                    keras.layers.Conv2D(16, (3,3), activation='relu', \n",
        "                                                    input_shape=X_train[0].shape, padding='same'),\n",
        "                    keras.layers.Conv2D(32, (3,3), activation='relu', padding='same'),\n",
        "                    keras.layers.BatchNormalization(),\n",
        "                    keras.layers.MaxPooling2D(2, 2),\n",
        "                    keras.layers.Dropout(.4),\n",
        "\n",
        "                    keras.layers.Conv2D(32, (3, 3), activation='relu', padding='same'),\n",
        "                    keras.layers.Conv2D(32, (3, 3), activation='relu'),\n",
        "                    keras.layers.BatchNormalization(),\n",
        "                    keras.layers.MaxPooling2D(2, 2),\n",
        "                    keras.layers.Dropout(.4),\n",
        "\n",
        "                    keras.layers.Flatten(),\n",
        "                    keras.layers.Dense(512, activation='relu'),\n",
        "                    keras.layers.Dropout(.4),\n",
        "                    keras.layers.Dense(n_classes, activation='softmax')\n",
        "])"
      ],
      "execution_count": null,
      "outputs": []
    },
    {
      "cell_type": "code",
      "metadata": {
        "colab": {
          "base_uri": "https://localhost:8080/"
        },
        "id": "ZCk72iA0LzcJ",
        "outputId": "90265eb2-4122-4e18-848c-6a3f740c3d42"
      },
      "source": [
        "model.summary()"
      ],
      "execution_count": null,
      "outputs": [
        {
          "output_type": "stream",
          "text": [
            "Model: \"sequential\"\n",
            "_________________________________________________________________\n",
            "Layer (type)                 Output Shape              Param #   \n",
            "=================================================================\n",
            "conv2d (Conv2D)              (None, 32, 32, 16)        448       \n",
            "_________________________________________________________________\n",
            "conv2d_1 (Conv2D)            (None, 32, 32, 32)        4640      \n",
            "_________________________________________________________________\n",
            "batch_normalization (BatchNo (None, 32, 32, 32)        128       \n",
            "_________________________________________________________________\n",
            "max_pooling2d (MaxPooling2D) (None, 16, 16, 32)        0         \n",
            "_________________________________________________________________\n",
            "dropout (Dropout)            (None, 16, 16, 32)        0         \n",
            "_________________________________________________________________\n",
            "conv2d_2 (Conv2D)            (None, 16, 16, 32)        9248      \n",
            "_________________________________________________________________\n",
            "conv2d_3 (Conv2D)            (None, 14, 14, 32)        9248      \n",
            "_________________________________________________________________\n",
            "batch_normalization_1 (Batch (None, 14, 14, 32)        128       \n",
            "_________________________________________________________________\n",
            "max_pooling2d_1 (MaxPooling2 (None, 7, 7, 32)          0         \n",
            "_________________________________________________________________\n",
            "dropout_1 (Dropout)          (None, 7, 7, 32)          0         \n",
            "_________________________________________________________________\n",
            "flatten (Flatten)            (None, 1568)              0         \n",
            "_________________________________________________________________\n",
            "dense (Dense)                (None, 512)               803328    \n",
            "_________________________________________________________________\n",
            "dropout_2 (Dropout)          (None, 512)               0         \n",
            "_________________________________________________________________\n",
            "dense_1 (Dense)              (None, 10)                5130      \n",
            "=================================================================\n",
            "Total params: 832,298\n",
            "Trainable params: 832,170\n",
            "Non-trainable params: 128\n",
            "_________________________________________________________________\n"
          ],
          "name": "stdout"
        }
      ]
    },
    {
      "cell_type": "code",
      "metadata": {
        "id": "XiaBT-sDLzcK"
      },
      "source": [
        "train_datagen = ImageDataGenerator(\n",
        "                                  rotation_range=15,\n",
        "                                  width_shift_range=0.2,\n",
        "                                  height_shift_range=0.2,\n",
        "                                  horizontal_flip=True,\n",
        "                                  fill_mode='nearest'\n",
        "                                  )"
      ],
      "execution_count": null,
      "outputs": []
    },
    {
      "cell_type": "code",
      "metadata": {
        "id": "WXB6z5LtLzcK"
      },
      "source": [
        "train_datagen.fit(X_train)"
      ],
      "execution_count": null,
      "outputs": []
    },
    {
      "cell_type": "code",
      "metadata": {
        "id": "fLxWhDdzLzcK"
      },
      "source": [
        "optimiser = keras.optimizers.RMSprop(lr=0.001, decay=1e-6)\n",
        "model.compile(optimizer=optimiser, loss='categorical_crossentropy', metrics=['accuracy'])"
      ],
      "execution_count": null,
      "outputs": []
    },
    {
      "cell_type": "code",
      "metadata": {
        "colab": {
          "background_save": true,
          "base_uri": "https://localhost:8080/"
        },
        "id": "OJ_Ut4sGLzcK",
        "outputId": "bf555483-d0fd-4e81-e36e-19bb5d5fec07"
      },
      "source": [
        "callback = keras.callbacks.EarlyStopping(patience=15, restore_best_weights=True)\n",
        "\n",
        "history = model.fit(train_datagen.flow(X_train, y_train), epochs=epochs, \n",
        "                validation_data=train_datagen.flow(X_test, y_test), \n",
        "                shuffle=True, batch_size=batch_size,\n",
        "                callbacks= callback)"
      ],
      "execution_count": null,
      "outputs": [
        {
          "output_type": "stream",
          "text": [
            "Epoch 1/100\n",
            "1563/1563 [==============================] - 32s 20ms/step - loss: 1.8734 - accuracy: 0.3391 - val_loss: 1.7548 - val_accuracy: 0.4126\n",
            "Epoch 2/100\n",
            "1563/1563 [==============================] - 31s 20ms/step - loss: 1.6018 - accuracy: 0.4298 - val_loss: 1.4007 - val_accuracy: 0.4914\n",
            "Epoch 3/100\n",
            "1563/1563 [==============================] - 31s 20ms/step - loss: 1.4899 - accuracy: 0.4709 - val_loss: 1.6376 - val_accuracy: 0.4656\n",
            "Epoch 4/100\n",
            "1563/1563 [==============================] - 32s 21ms/step - loss: 1.3709 - accuracy: 0.5115 - val_loss: 1.2460 - val_accuracy: 0.5558\n",
            "Epoch 5/100\n",
            "1563/1563 [==============================] - 32s 20ms/step - loss: 1.2710 - accuracy: 0.5511 - val_loss: 1.2925 - val_accuracy: 0.5461\n",
            "Epoch 6/100\n",
            "1563/1563 [==============================] - 31s 20ms/step - loss: 1.1983 - accuracy: 0.5729 - val_loss: 1.2294 - val_accuracy: 0.5778\n",
            "Epoch 7/100\n",
            "1563/1563 [==============================] - 31s 20ms/step - loss: 1.1509 - accuracy: 0.5948 - val_loss: 1.0226 - val_accuracy: 0.6338\n",
            "Epoch 8/100\n",
            "1563/1563 [==============================] - 32s 20ms/step - loss: 1.1201 - accuracy: 0.6052 - val_loss: 1.0352 - val_accuracy: 0.6300\n",
            "Epoch 9/100\n",
            "1563/1563 [==============================] - 31s 20ms/step - loss: 1.1015 - accuracy: 0.6126 - val_loss: 1.2713 - val_accuracy: 0.5940\n",
            "Epoch 10/100\n",
            "1563/1563 [==============================] - 32s 20ms/step - loss: 1.0815 - accuracy: 0.6249 - val_loss: 1.1595 - val_accuracy: 0.5841\n",
            "Epoch 11/100\n",
            "1563/1563 [==============================] - 32s 20ms/step - loss: 1.0766 - accuracy: 0.6254 - val_loss: 1.0005 - val_accuracy: 0.6456\n",
            "Epoch 12/100\n",
            "1563/1563 [==============================] - 31s 20ms/step - loss: 1.0640 - accuracy: 0.6308 - val_loss: 0.9088 - val_accuracy: 0.6770\n",
            "Epoch 13/100\n",
            "1563/1563 [==============================] - 32s 20ms/step - loss: 1.0515 - accuracy: 0.6374 - val_loss: 1.2167 - val_accuracy: 0.5804\n",
            "Epoch 14/100\n",
            "1563/1563 [==============================] - 31s 20ms/step - loss: 1.0495 - accuracy: 0.6376 - val_loss: 1.0253 - val_accuracy: 0.6354\n",
            "Epoch 15/100\n",
            "1563/1563 [==============================] - 31s 20ms/step - loss: 1.0420 - accuracy: 0.6428 - val_loss: 0.9112 - val_accuracy: 0.6915\n",
            "Epoch 16/100\n",
            "1563/1563 [==============================] - 31s 20ms/step - loss: 1.0440 - accuracy: 0.6414 - val_loss: 1.2353 - val_accuracy: 0.5829\n",
            "Epoch 17/100\n",
            "1563/1563 [==============================] - 31s 20ms/step - loss: 1.0410 - accuracy: 0.6441 - val_loss: 1.0448 - val_accuracy: 0.6371\n",
            "Epoch 18/100\n",
            "1563/1563 [==============================] - 31s 20ms/step - loss: 1.0377 - accuracy: 0.6486 - val_loss: 0.9815 - val_accuracy: 0.6612\n",
            "Epoch 19/100\n",
            "1563/1563 [==============================] - 34s 22ms/step - loss: 1.0419 - accuracy: 0.6446 - val_loss: 0.9117 - val_accuracy: 0.6892\n",
            "Epoch 20/100\n",
            "1563/1563 [==============================] - 31s 20ms/step - loss: 1.0362 - accuracy: 0.6493 - val_loss: 0.9304 - val_accuracy: 0.6760\n",
            "Epoch 21/100\n",
            "1563/1563 [==============================] - 32s 20ms/step - loss: 1.0448 - accuracy: 0.6463 - val_loss: 0.9447 - val_accuracy: 0.6717\n",
            "Epoch 22/100\n",
            "1563/1563 [==============================] - 32s 21ms/step - loss: 1.0422 - accuracy: 0.6452 - val_loss: 1.0536 - val_accuracy: 0.6729\n",
            "Epoch 23/100\n",
            "1563/1563 [==============================] - 31s 20ms/step - loss: 1.0523 - accuracy: 0.6459 - val_loss: 0.9089 - val_accuracy: 0.6951\n",
            "Epoch 24/100\n",
            "1563/1563 [==============================] - 30s 19ms/step - loss: 1.0543 - accuracy: 0.6472 - val_loss: 1.0194 - val_accuracy: 0.6667\n",
            "Epoch 25/100\n",
            "1563/1563 [==============================] - 32s 20ms/step - loss: 1.0560 - accuracy: 0.6435 - val_loss: 0.9135 - val_accuracy: 0.6889\n",
            "Epoch 26/100\n",
            "1563/1563 [==============================] - 32s 20ms/step - loss: 1.0546 - accuracy: 0.6464 - val_loss: 0.9289 - val_accuracy: 0.6868\n",
            "Epoch 27/100\n",
            "1563/1563 [==============================] - 32s 21ms/step - loss: 1.0591 - accuracy: 0.6466 - val_loss: 0.8595 - val_accuracy: 0.7146\n",
            "Epoch 28/100\n",
            "1563/1563 [==============================] - 32s 21ms/step - loss: 1.0620 - accuracy: 0.6428 - val_loss: 1.0908 - val_accuracy: 0.6392\n",
            "Epoch 29/100\n",
            "1563/1563 [==============================] - 32s 20ms/step - loss: 1.0587 - accuracy: 0.6473 - val_loss: 0.9779 - val_accuracy: 0.6704\n",
            "Epoch 30/100\n",
            "1563/1563 [==============================] - 32s 20ms/step - loss: 1.0644 - accuracy: 0.6458 - val_loss: 0.9918 - val_accuracy: 0.6690\n",
            "Epoch 31/100\n",
            "1563/1563 [==============================] - 31s 20ms/step - loss: 1.0788 - accuracy: 0.6476 - val_loss: 0.9371 - val_accuracy: 0.6800\n",
            "Epoch 32/100\n",
            "1563/1563 [==============================] - 31s 20ms/step - loss: 1.0781 - accuracy: 0.6429 - val_loss: 1.0265 - val_accuracy: 0.6598\n",
            "Epoch 33/100\n",
            "1563/1563 [==============================] - 31s 20ms/step - loss: 1.0843 - accuracy: 0.6428 - val_loss: 0.8805 - val_accuracy: 0.7041\n",
            "Epoch 34/100\n",
            "1563/1563 [==============================] - 31s 20ms/step - loss: 1.0835 - accuracy: 0.6420 - val_loss: 0.9393 - val_accuracy: 0.6892\n",
            "Epoch 35/100\n",
            "1563/1563 [==============================] - 31s 20ms/step - loss: 1.0857 - accuracy: 0.6424 - val_loss: 1.1004 - val_accuracy: 0.6375\n",
            "Epoch 36/100\n",
            "1563/1563 [==============================] - 32s 20ms/step - loss: 1.0873 - accuracy: 0.6405 - val_loss: 1.1329 - val_accuracy: 0.6494\n",
            "Epoch 37/100\n",
            "1563/1563 [==============================] - 32s 20ms/step - loss: 1.0938 - accuracy: 0.6408 - val_loss: 1.0268 - val_accuracy: 0.6599\n",
            "Epoch 38/100\n",
            "1563/1563 [==============================] - 32s 21ms/step - loss: 1.0973 - accuracy: 0.6388 - val_loss: 0.9619 - val_accuracy: 0.6693\n",
            "Epoch 39/100\n",
            "1563/1563 [==============================] - 32s 20ms/step - loss: 1.1051 - accuracy: 0.6321 - val_loss: 0.8824 - val_accuracy: 0.7136\n",
            "Epoch 40/100\n",
            "1563/1563 [==============================] - 31s 20ms/step - loss: 1.1047 - accuracy: 0.6374 - val_loss: 0.9196 - val_accuracy: 0.6984\n",
            "Epoch 41/100\n",
            "1563/1563 [==============================] - 33s 21ms/step - loss: 1.1153 - accuracy: 0.6343 - val_loss: 0.9627 - val_accuracy: 0.6668\n",
            "Epoch 42/100\n",
            "1563/1563 [==============================] - 32s 21ms/step - loss: 1.1161 - accuracy: 0.6338 - val_loss: 1.0295 - val_accuracy: 0.6528\n"
          ],
          "name": "stdout"
        }
      ]
    },
    {
      "cell_type": "code",
      "metadata": {
        "id": "3E1q7L-HLzcK",
        "colab": {
          "base_uri": "https://localhost:8080/"
        },
        "outputId": "ef1c6d47-74dd-4181-c1ea-ad80f430811a"
      },
      "source": [
        "model.evaluate(X_test, y_test)"
      ],
      "execution_count": 14,
      "outputs": [
        {
          "output_type": "stream",
          "text": [
            "313/313 [==============================] - 1s 3ms/step - loss: 0.9864 - accuracy: 0.7161\n"
          ],
          "name": "stdout"
        },
        {
          "output_type": "execute_result",
          "data": {
            "text/plain": [
              "[0.986380398273468, 0.7160999774932861]"
            ]
          },
          "metadata": {
            "tags": []
          },
          "execution_count": 14
        }
      ]
    },
    {
      "cell_type": "markdown",
      "metadata": {
        "id": "1pPXyu2ON1d1"
      },
      "source": [
        "# Learing Curve "
      ]
    },
    {
      "cell_type": "code",
      "metadata": {
        "id": "qF4BBU6DNrPG",
        "colab": {
          "base_uri": "https://localhost:8080/",
          "height": 265
        },
        "outputId": "b178af15-fcb9-456c-b502-1b4845dd3015"
      },
      "source": [
        "pd.DataFrame(history.history).plot()\n",
        "plt.show()"
      ],
      "execution_count": 20,
      "outputs": [
        {
          "output_type": "display_data",
          "data": {
            "image/png": "[encoded data removed]",
            "text/plain": [
              "<Figure size 432x288 with 1 Axes>"
            ]
          },
          "metadata": {
            "tags": [],
            "needs_background": "light"
          }
        }
      ]
    },
    {
      "cell_type": "markdown",
      "metadata": {
        "id": "fxRi7w62NKSE"
      },
      "source": [
        "# Save Model"
      ]
    },
    {
      "cell_type": "code",
      "metadata": {
        "id": "u9z-F6fcNHfx"
      },
      "source": [
        "dir = '/tmp/'\n",
        "save_name = 'CIFAR10model.h5'\n",
        "model_path = os.path.join(dir, save_name)\n",
        "\n",
        "model.save(model_path)"
      ],
      "execution_count": 24,
      "outputs": []
    },
    {
      "cell_type": "code",
      "metadata": {
        "id": "HsSQRsJxU883"
      },
      "source": [
        "try:\n",
        "  from google.colab import files\n",
        "except ImportError:\n",
        "  pass\n",
        "else:\n",
        "  files.download(model_path)"
      ],
      "execution_count": null,
      "outputs": []
    }
  ]
}