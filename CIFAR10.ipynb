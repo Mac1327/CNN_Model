{
 "metadata": {
  "language_info": {
   "codemirror_mode": {
    "name": "ipython",
    "version": 3
   },
   "file_extension": ".py",
   "mimetype": "text/x-python",
   "name": "python",
   "nbconvert_exporter": "python",
   "pygments_lexer": "ipython3",
   "version": "3.7.9-final"
  },
  "orig_nbformat": 2,
  "kernelspec": {
   "name": "python3",
   "display_name": "Python 3.7.9 64-bit ('Py3_7': conda)",
   "metadata": {
    "interpreter": {
     "hash": "18c63758eb91a9266e008dc99c40e8fda17ac47a560fa1cc8c0916e0c190a9d2"
    }
   }
  }
 },
 "nbformat": 4,
 "nbformat_minor": 2,
 "cells": [
  {
   "cell_type": "code",
   "execution_count": 1,
   "metadata": {},
   "outputs": [
    {
     "output_type": "stream",
     "name": "stderr",
     "text": [
      "Using TensorFlow backend.\n"
     ]
    }
   ],
   "source": [
    "import pandas as pd\n",
    "import numpy as np\n",
    "import matplotlib.pyplot as plt\n",
    "import seaborn as sns\n",
    "import tensorflow as tf \n",
    "from tensorflow import keras\n",
    "from tensorflow.keras.preprocessing.image import ImageDataGenerator\n",
    "from tensorflow.keras.optimizers import RMSprop\n",
    "from keras.utils import np_utils"
   ]
  },
  {
   "source": [
    "# Importing and Splitting the Data"
   ],
   "cell_type": "markdown",
   "metadata": {}
  },
  {
   "cell_type": "code",
   "execution_count": 2,
   "metadata": {},
   "outputs": [],
   "source": [
    "n_classes=10\n",
    "batch_size=32\n",
    "epochs=100"
   ]
  },
  {
   "cell_type": "code",
   "execution_count": 3,
   "metadata": {},
   "outputs": [],
   "source": [
    "(X_train, y_train), (X_test, y_test) = keras.datasets.cifar10.load_data()"
   ]
  },
  {
   "cell_type": "code",
   "execution_count": 4,
   "metadata": {},
   "outputs": [],
   "source": [
    "#X_train = X_train_full[:40000] / 255\n",
    "#X_val = X_train_full[40000:] / 255\n",
    "\n",
    "#y_train = y_train_full[:40000] \n",
    "#y_val = y_train_full[40000:] \n",
    "\n",
    "#X_test = X_test /255"
   ]
  },
  {
   "cell_type": "code",
   "execution_count": 5,
   "metadata": {},
   "outputs": [],
   "source": [
    "#X_train = X_train.astype('float32')\n",
    "#X_val = X_val.astype('float32')\n",
    "#X_test = X_test.astype('float32')"
   ]
  },
  {
   "cell_type": "code",
   "execution_count": 6,
   "metadata": {},
   "outputs": [],
   "source": [
    "X_train = X_train.astype('float32') /255\n",
    "X_test = X_test.astype('float32') /255"
   ]
  },
  {
   "cell_type": "code",
   "execution_count": 7,
   "metadata": {},
   "outputs": [],
   "source": [
    "y_train = np_utils.to_categorical(y_train,n_classes)\n",
    "y_test = np_utils.to_categorical(y_test,n_classes)"
   ]
  },
  {
   "cell_type": "code",
   "execution_count": 8,
   "metadata": {},
   "outputs": [
    {
     "output_type": "stream",
     "name": "stdout",
     "text": [
      "[0. 0. 0. 0. 0. 0. 0. 0. 0. 1.]\n"
     ]
    },
    {
     "output_type": "display_data",
     "data": {
      "text/plain": "<Figure size 432x288 with 1 Axes>",
      "image/svg+xml": "<?xml version=\"1.0\" encoding=\"utf-8\" standalone=\"no\"?>\r\n<!DOCTYPE svg PUBLIC \"-//W3C//DTD SVG 1.1//EN\"\r\n  \"http://www.w3.org/Graphics/SVG/1.1/DTD/svg11.dtd\">\r\n<!-- Created with matplotlib (https://matplotlib.org/) -->\r\n<svg height=\"231.84pt\" version=\"1.1\" viewBox=\"0 0 231.84 231.84\" width=\"231.84pt\" xmlns=\"http://www.w3.org/2000/svg\" xmlns:xlink=\"http://www.w3.org/1999/xlink\">\r\n <metadata>\r\n  <rdf:RDF xmlns:cc=\"http://creativecommons.org/ns#\" xmlns:dc=\"http://purl.org/dc/elements/1.1/\" xmlns:rdf=\"http://www.w3.org/1999/02/22-rdf-syntax-ns#\">\r\n   <cc:Work>\r\n    <dc:type rdf:resource=\"http://purl.org/dc/dcmitype/StillImage\"/>\r\n    <dc:date>2020-11-29T17:41:38.166459</dc:date>\r\n    <dc:format>image/svg+xml</dc:format>\r\n    <dc:creator>\r\n     <cc:Agent>\r\n      <dc:title>Matplotlib v3.3.1, https://matplotlib.org/</dc:title>\r\n     </cc:Agent>\r\n    </dc:creator>\r\n   </cc:Work>\r\n  </rdf:RDF>\r\n </metadata>\r\n <defs>\r\n  <style type=\"text/css\">*{stroke-linecap:butt;stroke-linejoin:round;}</style>\r\n </defs>\r\n <g id=\"figure_1\">\r\n  <g id=\"patch_1\">\r\n   <path d=\"M 0 231.84 \r\nL 231.84 231.84 \r\nL 231.84 0 \r\nL 0 0 \r\nz\r\n\" style=\"fill:none;\"/>\r\n  </g>\r\n  <g id=\"axes_1\">\r\n   <g clip-path=\"url(#p18f9202cb2)\">\r\n    <image height=\"218\" id=\"image88415d43da\" transform=\"scale(1 -1)translate(0 -218)\" width=\"218\" x=\"7.2\" xlink:href=\"data:image/png;base64,\r\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\" y=\"-6.64\"/>\r\n   </g>\r\n  </g>\r\n </g>\r\n <defs>\r\n  <clipPath id=\"p18f9202cb2\">\r\n   <rect height=\"217.44\" width=\"217.44\" x=\"7.2\" y=\"7.2\"/>\r\n  </clipPath>\r\n </defs>\r\n</svg>\r\n",
      "image/png": "[encoded data removed]"
     },
     "metadata": {
      "needs_background": "light"
     }
    }
   ],
   "source": [
    "print(y_train[50])\n",
    "plt.imshow(X_train[50])\n",
    "plt.axis('off')\n",
    "plt.show()"
   ]
  },
  {
   "cell_type": "code",
   "execution_count": 9,
   "metadata": {},
   "outputs": [],
   "source": [
    "keras.backend.clear_session()\n",
    "np.random.seed(0)\n",
    "tf.random.set_seed(0)"
   ]
  },
  {
   "source": [
    "# Basic CNN Model"
   ],
   "cell_type": "markdown",
   "metadata": {}
  },
  {
   "cell_type": "code",
   "execution_count": 10,
   "metadata": {},
   "outputs": [],
   "source": [
    "model = keras.models.Sequential([\n",
    "                    keras.layers.Conv2D(16, (3,3), activation='relu', \n",
    "                                                    input_shape=X_train[0].shape, padding='same'),\n",
    "                    keras.layers.Conv2D(32, (3,3), activation='relu', padding='same'),\n",
    "                    keras.layers.BatchNormalization(),\n",
    "                    keras.layers.MaxPooling2D(2, 2),\n",
    "                    keras.layers.Dropout(.4),\n",
    "\n",
    "                    keras.layers.Conv2D(32, (3, 3), activation='relu', padding='same'),\n",
    "                    keras.layers.Conv2D(32, (3, 3), activation='relu'),\n",
    "                    keras.layers.BatchNormalization(),\n",
    "                    keras.layers.MaxPooling2D(2, 2),\n",
    "                    keras.layers.Dropout(.4),\n",
    "\n",
    "                    keras.layers.Flatten(),\n",
    "                    keras.layers.Dense(512, activation='relu'),\n",
    "                    keras.layers.Dropout(.4),\n",
    "                    keras.layers.Dense(n_classes, activation='softmax')\n",
    "])"
   ]
  },
  {
   "cell_type": "code",
   "execution_count": 11,
   "metadata": {},
   "outputs": [
    {
     "output_type": "stream",
     "name": "stdout",
     "text": [
      "Model: \"sequential\"\n_________________________________________________________________\nLayer (type)                 Output Shape              Param #   \n=================================================================\nconv2d (Conv2D)              (None, 32, 32, 16)        448       \n_________________________________________________________________\nconv2d_1 (Conv2D)            (None, 32, 32, 32)        4640      \n_________________________________________________________________\nbatch_normalization (BatchNo (None, 32, 32, 32)        128       \n_________________________________________________________________\nmax_pooling2d (MaxPooling2D) (None, 16, 16, 32)        0         \n_________________________________________________________________\ndropout (Dropout)            (None, 16, 16, 32)        0         \n_________________________________________________________________\nconv2d_2 (Conv2D)            (None, 16, 16, 32)        9248      \n_________________________________________________________________\nconv2d_3 (Conv2D)            (None, 14, 14, 32)        9248      \n_________________________________________________________________\nbatch_normalization_1 (Batch (None, 14, 14, 32)        128       \n_________________________________________________________________\nmax_pooling2d_1 (MaxPooling2 (None, 7, 7, 32)          0         \n_________________________________________________________________\ndropout_1 (Dropout)          (None, 7, 7, 32)          0         \n_________________________________________________________________\nflatten (Flatten)            (None, 1568)              0         \n_________________________________________________________________\ndense (Dense)                (None, 512)               803328    \n_________________________________________________________________\ndropout_2 (Dropout)          (None, 512)               0         \n_________________________________________________________________\ndense_1 (Dense)              (None, 10)                5130      \n=================================================================\nTotal params: 832,298\nTrainable params: 832,170\nNon-trainable params: 128\n_________________________________________________________________\n"
     ]
    }
   ],
   "source": [
    "model.summary()"
   ]
  },
  {
   "cell_type": "code",
   "execution_count": 12,
   "metadata": {},
   "outputs": [],
   "source": [
    "train_datagen = ImageDataGenerator(\n",
    "                                  rotation_range=15,\n",
    "                                  width_shift_range=0.2,\n",
    "                                  height_shift_range=0.2,\n",
    "                                  horizontal_flip=True,\n",
    "                                  fill_mode='nearest'\n",
    "                                  )"
   ]
  },
  {
   "cell_type": "code",
   "execution_count": 13,
   "metadata": {},
   "outputs": [],
   "source": [
    "train_datagen.fit(X_train)"
   ]
  },
  {
   "cell_type": "code",
   "execution_count": 14,
   "metadata": {},
   "outputs": [],
   "source": [
    "optimiser = keras.optimizers.RMSprop(lr=0.001, decay=1e-6)\n",
    "model.compile(optimizer=optimiser, loss='categorical_crossentropy', metrics=['accuracy'])"
   ]
  },
  {
   "cell_type": "code",
   "execution_count": 15,
   "metadata": {},
   "outputs": [
    {
     "output_type": "stream",
     "name": "stdout",
     "text": [
      "Epoch 1/100\n",
      "1563/1563 [==============================] - ETA: 0s - loss: 1.8717 - accuracy: 0.3364"
     ]
    },
    {
     "output_type": "error",
     "ename": "KeyboardInterrupt",
     "evalue": "",
     "traceback": [
      "\u001b[1;31m---------------------------------------------------------------------------\u001b[0m",
      "\u001b[1;31mKeyboardInterrupt\u001b[0m                         Traceback (most recent call last)",
      "\u001b[1;32m<ipython-input-15-129224132f26>\u001b[0m in \u001b[0;36m<module>\u001b[1;34m\u001b[0m\n\u001b[0;32m      4\u001b[0m                 \u001b[0mvalidation_data\u001b[0m\u001b[1;33m=\u001b[0m\u001b[0mtrain_datagen\u001b[0m\u001b[1;33m.\u001b[0m\u001b[0mflow\u001b[0m\u001b[1;33m(\u001b[0m\u001b[0mX_test\u001b[0m\u001b[1;33m,\u001b[0m \u001b[0my_test\u001b[0m\u001b[1;33m)\u001b[0m\u001b[1;33m,\u001b[0m\u001b[1;33m\u001b[0m\u001b[1;33m\u001b[0m\u001b[0m\n\u001b[0;32m      5\u001b[0m                 \u001b[0mshuffle\u001b[0m\u001b[1;33m=\u001b[0m\u001b[1;32mTrue\u001b[0m\u001b[1;33m,\u001b[0m \u001b[0mbatch_size\u001b[0m\u001b[1;33m=\u001b[0m\u001b[0mbatch_size\u001b[0m\u001b[1;33m,\u001b[0m\u001b[1;33m\u001b[0m\u001b[1;33m\u001b[0m\u001b[0m\n\u001b[1;32m----> 6\u001b[1;33m                 callbacks= callback)\n\u001b[0m",
      "\u001b[1;32m~\\Anaconda3\\envs\\Py3_7\\lib\\site-packages\\tensorflow\\python\\keras\\engine\\training.py\u001b[0m in \u001b[0;36m_method_wrapper\u001b[1;34m(self, *args, **kwargs)\u001b[0m\n\u001b[0;32m    106\u001b[0m   \u001b[1;32mdef\u001b[0m \u001b[0m_method_wrapper\u001b[0m\u001b[1;33m(\u001b[0m\u001b[0mself\u001b[0m\u001b[1;33m,\u001b[0m \u001b[1;33m*\u001b[0m\u001b[0margs\u001b[0m\u001b[1;33m,\u001b[0m \u001b[1;33m**\u001b[0m\u001b[0mkwargs\u001b[0m\u001b[1;33m)\u001b[0m\u001b[1;33m:\u001b[0m\u001b[1;33m\u001b[0m\u001b[1;33m\u001b[0m\u001b[0m\n\u001b[0;32m    107\u001b[0m     \u001b[1;32mif\u001b[0m \u001b[1;32mnot\u001b[0m \u001b[0mself\u001b[0m\u001b[1;33m.\u001b[0m\u001b[0m_in_multi_worker_mode\u001b[0m\u001b[1;33m(\u001b[0m\u001b[1;33m)\u001b[0m\u001b[1;33m:\u001b[0m  \u001b[1;31m# pylint: disable=protected-access\u001b[0m\u001b[1;33m\u001b[0m\u001b[1;33m\u001b[0m\u001b[0m\n\u001b[1;32m--> 108\u001b[1;33m       \u001b[1;32mreturn\u001b[0m \u001b[0mmethod\u001b[0m\u001b[1;33m(\u001b[0m\u001b[0mself\u001b[0m\u001b[1;33m,\u001b[0m \u001b[1;33m*\u001b[0m\u001b[0margs\u001b[0m\u001b[1;33m,\u001b[0m \u001b[1;33m**\u001b[0m\u001b[0mkwargs\u001b[0m\u001b[1;33m)\u001b[0m\u001b[1;33m\u001b[0m\u001b[1;33m\u001b[0m\u001b[0m\n\u001b[0m\u001b[0;32m    109\u001b[0m \u001b[1;33m\u001b[0m\u001b[0m\n\u001b[0;32m    110\u001b[0m     \u001b[1;31m# Running inside `run_distribute_coordinator` already.\u001b[0m\u001b[1;33m\u001b[0m\u001b[1;33m\u001b[0m\u001b[1;33m\u001b[0m\u001b[0m\n",
      "\u001b[1;32m~\\Anaconda3\\envs\\Py3_7\\lib\\site-packages\\tensorflow\\python\\keras\\engine\\training.py\u001b[0m in \u001b[0;36mfit\u001b[1;34m(self, x, y, batch_size, epochs, verbose, callbacks, validation_split, validation_data, shuffle, class_weight, sample_weight, initial_epoch, steps_per_epoch, validation_steps, validation_batch_size, validation_freq, max_queue_size, workers, use_multiprocessing)\u001b[0m\n\u001b[0;32m   1131\u001b[0m               \u001b[0mworkers\u001b[0m\u001b[1;33m=\u001b[0m\u001b[0mworkers\u001b[0m\u001b[1;33m,\u001b[0m\u001b[1;33m\u001b[0m\u001b[1;33m\u001b[0m\u001b[0m\n\u001b[0;32m   1132\u001b[0m               \u001b[0muse_multiprocessing\u001b[0m\u001b[1;33m=\u001b[0m\u001b[0muse_multiprocessing\u001b[0m\u001b[1;33m,\u001b[0m\u001b[1;33m\u001b[0m\u001b[1;33m\u001b[0m\u001b[0m\n\u001b[1;32m-> 1133\u001b[1;33m               return_dict=True)\n\u001b[0m\u001b[0;32m   1134\u001b[0m           \u001b[0mval_logs\u001b[0m \u001b[1;33m=\u001b[0m \u001b[1;33m{\u001b[0m\u001b[1;34m'val_'\u001b[0m \u001b[1;33m+\u001b[0m \u001b[0mname\u001b[0m\u001b[1;33m:\u001b[0m \u001b[0mval\u001b[0m \u001b[1;32mfor\u001b[0m \u001b[0mname\u001b[0m\u001b[1;33m,\u001b[0m \u001b[0mval\u001b[0m \u001b[1;32min\u001b[0m \u001b[0mval_logs\u001b[0m\u001b[1;33m.\u001b[0m\u001b[0mitems\u001b[0m\u001b[1;33m(\u001b[0m\u001b[1;33m)\u001b[0m\u001b[1;33m}\u001b[0m\u001b[1;33m\u001b[0m\u001b[1;33m\u001b[0m\u001b[0m\n\u001b[0;32m   1135\u001b[0m           \u001b[0mepoch_logs\u001b[0m\u001b[1;33m.\u001b[0m\u001b[0mupdate\u001b[0m\u001b[1;33m(\u001b[0m\u001b[0mval_logs\u001b[0m\u001b[1;33m)\u001b[0m\u001b[1;33m\u001b[0m\u001b[1;33m\u001b[0m\u001b[0m\n",
      "\u001b[1;32m~\\Anaconda3\\envs\\Py3_7\\lib\\site-packages\\tensorflow\\python\\keras\\engine\\training.py\u001b[0m in \u001b[0;36m_method_wrapper\u001b[1;34m(self, *args, **kwargs)\u001b[0m\n\u001b[0;32m    106\u001b[0m   \u001b[1;32mdef\u001b[0m \u001b[0m_method_wrapper\u001b[0m\u001b[1;33m(\u001b[0m\u001b[0mself\u001b[0m\u001b[1;33m,\u001b[0m \u001b[1;33m*\u001b[0m\u001b[0margs\u001b[0m\u001b[1;33m,\u001b[0m \u001b[1;33m**\u001b[0m\u001b[0mkwargs\u001b[0m\u001b[1;33m)\u001b[0m\u001b[1;33m:\u001b[0m\u001b[1;33m\u001b[0m\u001b[1;33m\u001b[0m\u001b[0m\n\u001b[0;32m    107\u001b[0m     \u001b[1;32mif\u001b[0m \u001b[1;32mnot\u001b[0m \u001b[0mself\u001b[0m\u001b[1;33m.\u001b[0m\u001b[0m_in_multi_worker_mode\u001b[0m\u001b[1;33m(\u001b[0m\u001b[1;33m)\u001b[0m\u001b[1;33m:\u001b[0m  \u001b[1;31m# pylint: disable=protected-access\u001b[0m\u001b[1;33m\u001b[0m\u001b[1;33m\u001b[0m\u001b[0m\n\u001b[1;32m--> 108\u001b[1;33m       \u001b[1;32mreturn\u001b[0m \u001b[0mmethod\u001b[0m\u001b[1;33m(\u001b[0m\u001b[0mself\u001b[0m\u001b[1;33m,\u001b[0m \u001b[1;33m*\u001b[0m\u001b[0margs\u001b[0m\u001b[1;33m,\u001b[0m \u001b[1;33m**\u001b[0m\u001b[0mkwargs\u001b[0m\u001b[1;33m)\u001b[0m\u001b[1;33m\u001b[0m\u001b[1;33m\u001b[0m\u001b[0m\n\u001b[0m\u001b[0;32m    109\u001b[0m \u001b[1;33m\u001b[0m\u001b[0m\n\u001b[0;32m    110\u001b[0m     \u001b[1;31m# Running inside `run_distribute_coordinator` already.\u001b[0m\u001b[1;33m\u001b[0m\u001b[1;33m\u001b[0m\u001b[1;33m\u001b[0m\u001b[0m\n",
      "\u001b[1;32m~\\Anaconda3\\envs\\Py3_7\\lib\\site-packages\\tensorflow\\python\\keras\\engine\\training.py\u001b[0m in \u001b[0;36mevaluate\u001b[1;34m(self, x, y, batch_size, verbose, sample_weight, steps, callbacks, max_queue_size, workers, use_multiprocessing, return_dict)\u001b[0m\n\u001b[0;32m   1377\u001b[0m             \u001b[1;32mwith\u001b[0m \u001b[0mtrace\u001b[0m\u001b[1;33m.\u001b[0m\u001b[0mTrace\u001b[0m\u001b[1;33m(\u001b[0m\u001b[1;34m'TraceContext'\u001b[0m\u001b[1;33m,\u001b[0m \u001b[0mgraph_type\u001b[0m\u001b[1;33m=\u001b[0m\u001b[1;34m'test'\u001b[0m\u001b[1;33m,\u001b[0m \u001b[0mstep_num\u001b[0m\u001b[1;33m=\u001b[0m\u001b[0mstep\u001b[0m\u001b[1;33m)\u001b[0m\u001b[1;33m:\u001b[0m\u001b[1;33m\u001b[0m\u001b[1;33m\u001b[0m\u001b[0m\n\u001b[0;32m   1378\u001b[0m               \u001b[0mcallbacks\u001b[0m\u001b[1;33m.\u001b[0m\u001b[0mon_test_batch_begin\u001b[0m\u001b[1;33m(\u001b[0m\u001b[0mstep\u001b[0m\u001b[1;33m)\u001b[0m\u001b[1;33m\u001b[0m\u001b[1;33m\u001b[0m\u001b[0m\n\u001b[1;32m-> 1379\u001b[1;33m               \u001b[0mtmp_logs\u001b[0m \u001b[1;33m=\u001b[0m \u001b[0mtest_function\u001b[0m\u001b[1;33m(\u001b[0m\u001b[0miterator\u001b[0m\u001b[1;33m)\u001b[0m\u001b[1;33m\u001b[0m\u001b[1;33m\u001b[0m\u001b[0m\n\u001b[0m\u001b[0;32m   1380\u001b[0m               \u001b[1;32mif\u001b[0m \u001b[0mdata_handler\u001b[0m\u001b[1;33m.\u001b[0m\u001b[0mshould_sync\u001b[0m\u001b[1;33m:\u001b[0m\u001b[1;33m\u001b[0m\u001b[1;33m\u001b[0m\u001b[0m\n\u001b[0;32m   1381\u001b[0m                 \u001b[0mcontext\u001b[0m\u001b[1;33m.\u001b[0m\u001b[0masync_wait\u001b[0m\u001b[1;33m(\u001b[0m\u001b[1;33m)\u001b[0m\u001b[1;33m\u001b[0m\u001b[1;33m\u001b[0m\u001b[0m\n",
      "\u001b[1;32m~\\Anaconda3\\envs\\Py3_7\\lib\\site-packages\\tensorflow\\python\\eager\\def_function.py\u001b[0m in \u001b[0;36m__call__\u001b[1;34m(self, *args, **kwds)\u001b[0m\n\u001b[0;32m    778\u001b[0m       \u001b[1;32melse\u001b[0m\u001b[1;33m:\u001b[0m\u001b[1;33m\u001b[0m\u001b[1;33m\u001b[0m\u001b[0m\n\u001b[0;32m    779\u001b[0m         \u001b[0mcompiler\u001b[0m \u001b[1;33m=\u001b[0m \u001b[1;34m\"nonXla\"\u001b[0m\u001b[1;33m\u001b[0m\u001b[1;33m\u001b[0m\u001b[0m\n\u001b[1;32m--> 780\u001b[1;33m         \u001b[0mresult\u001b[0m \u001b[1;33m=\u001b[0m \u001b[0mself\u001b[0m\u001b[1;33m.\u001b[0m\u001b[0m_call\u001b[0m\u001b[1;33m(\u001b[0m\u001b[1;33m*\u001b[0m\u001b[0margs\u001b[0m\u001b[1;33m,\u001b[0m \u001b[1;33m**\u001b[0m\u001b[0mkwds\u001b[0m\u001b[1;33m)\u001b[0m\u001b[1;33m\u001b[0m\u001b[1;33m\u001b[0m\u001b[0m\n\u001b[0m\u001b[0;32m    781\u001b[0m \u001b[1;33m\u001b[0m\u001b[0m\n\u001b[0;32m    782\u001b[0m       \u001b[0mnew_tracing_count\u001b[0m \u001b[1;33m=\u001b[0m \u001b[0mself\u001b[0m\u001b[1;33m.\u001b[0m\u001b[0m_get_tracing_count\u001b[0m\u001b[1;33m(\u001b[0m\u001b[1;33m)\u001b[0m\u001b[1;33m\u001b[0m\u001b[1;33m\u001b[0m\u001b[0m\n",
      "\u001b[1;32m~\\Anaconda3\\envs\\Py3_7\\lib\\site-packages\\tensorflow\\python\\eager\\def_function.py\u001b[0m in \u001b[0;36m_call\u001b[1;34m(self, *args, **kwds)\u001b[0m\n\u001b[0;32m    812\u001b[0m       \u001b[1;31m# In this case we have not created variables on the first call. So we can\u001b[0m\u001b[1;33m\u001b[0m\u001b[1;33m\u001b[0m\u001b[1;33m\u001b[0m\u001b[0m\n\u001b[0;32m    813\u001b[0m       \u001b[1;31m# run the first trace but we should fail if variables are created.\u001b[0m\u001b[1;33m\u001b[0m\u001b[1;33m\u001b[0m\u001b[1;33m\u001b[0m\u001b[0m\n\u001b[1;32m--> 814\u001b[1;33m       \u001b[0mresults\u001b[0m \u001b[1;33m=\u001b[0m \u001b[0mself\u001b[0m\u001b[1;33m.\u001b[0m\u001b[0m_stateful_fn\u001b[0m\u001b[1;33m(\u001b[0m\u001b[1;33m*\u001b[0m\u001b[0margs\u001b[0m\u001b[1;33m,\u001b[0m \u001b[1;33m**\u001b[0m\u001b[0mkwds\u001b[0m\u001b[1;33m)\u001b[0m\u001b[1;33m\u001b[0m\u001b[1;33m\u001b[0m\u001b[0m\n\u001b[0m\u001b[0;32m    815\u001b[0m       \u001b[1;32mif\u001b[0m \u001b[0mself\u001b[0m\u001b[1;33m.\u001b[0m\u001b[0m_created_variables\u001b[0m\u001b[1;33m:\u001b[0m\u001b[1;33m\u001b[0m\u001b[1;33m\u001b[0m\u001b[0m\n\u001b[0;32m    816\u001b[0m         raise ValueError(\"Creating variables on a non-first call to a function\"\n",
      "\u001b[1;32m~\\Anaconda3\\envs\\Py3_7\\lib\\site-packages\\tensorflow\\python\\eager\\function.py\u001b[0m in \u001b[0;36m__call__\u001b[1;34m(self, *args, **kwargs)\u001b[0m\n\u001b[0;32m   2827\u001b[0m     \u001b[1;32mwith\u001b[0m \u001b[0mself\u001b[0m\u001b[1;33m.\u001b[0m\u001b[0m_lock\u001b[0m\u001b[1;33m:\u001b[0m\u001b[1;33m\u001b[0m\u001b[1;33m\u001b[0m\u001b[0m\n\u001b[0;32m   2828\u001b[0m       \u001b[0mgraph_function\u001b[0m\u001b[1;33m,\u001b[0m \u001b[0margs\u001b[0m\u001b[1;33m,\u001b[0m \u001b[0mkwargs\u001b[0m \u001b[1;33m=\u001b[0m \u001b[0mself\u001b[0m\u001b[1;33m.\u001b[0m\u001b[0m_maybe_define_function\u001b[0m\u001b[1;33m(\u001b[0m\u001b[0margs\u001b[0m\u001b[1;33m,\u001b[0m \u001b[0mkwargs\u001b[0m\u001b[1;33m)\u001b[0m\u001b[1;33m\u001b[0m\u001b[1;33m\u001b[0m\u001b[0m\n\u001b[1;32m-> 2829\u001b[1;33m     \u001b[1;32mreturn\u001b[0m \u001b[0mgraph_function\u001b[0m\u001b[1;33m.\u001b[0m\u001b[0m_filtered_call\u001b[0m\u001b[1;33m(\u001b[0m\u001b[0margs\u001b[0m\u001b[1;33m,\u001b[0m \u001b[0mkwargs\u001b[0m\u001b[1;33m)\u001b[0m  \u001b[1;31m# pylint: disable=protected-access\u001b[0m\u001b[1;33m\u001b[0m\u001b[1;33m\u001b[0m\u001b[0m\n\u001b[0m\u001b[0;32m   2830\u001b[0m \u001b[1;33m\u001b[0m\u001b[0m\n\u001b[0;32m   2831\u001b[0m   \u001b[1;33m@\u001b[0m\u001b[0mproperty\u001b[0m\u001b[1;33m\u001b[0m\u001b[1;33m\u001b[0m\u001b[0m\n",
      "\u001b[1;32m~\\Anaconda3\\envs\\Py3_7\\lib\\site-packages\\tensorflow\\python\\eager\\function.py\u001b[0m in \u001b[0;36m_filtered_call\u001b[1;34m(self, args, kwargs, cancellation_manager)\u001b[0m\n\u001b[0;32m   1846\u001b[0m                            resource_variable_ops.BaseResourceVariable))],\n\u001b[0;32m   1847\u001b[0m         \u001b[0mcaptured_inputs\u001b[0m\u001b[1;33m=\u001b[0m\u001b[0mself\u001b[0m\u001b[1;33m.\u001b[0m\u001b[0mcaptured_inputs\u001b[0m\u001b[1;33m,\u001b[0m\u001b[1;33m\u001b[0m\u001b[1;33m\u001b[0m\u001b[0m\n\u001b[1;32m-> 1848\u001b[1;33m         cancellation_manager=cancellation_manager)\n\u001b[0m\u001b[0;32m   1849\u001b[0m \u001b[1;33m\u001b[0m\u001b[0m\n\u001b[0;32m   1850\u001b[0m   \u001b[1;32mdef\u001b[0m \u001b[0m_call_flat\u001b[0m\u001b[1;33m(\u001b[0m\u001b[0mself\u001b[0m\u001b[1;33m,\u001b[0m \u001b[0margs\u001b[0m\u001b[1;33m,\u001b[0m \u001b[0mcaptured_inputs\u001b[0m\u001b[1;33m,\u001b[0m \u001b[0mcancellation_manager\u001b[0m\u001b[1;33m=\u001b[0m\u001b[1;32mNone\u001b[0m\u001b[1;33m)\u001b[0m\u001b[1;33m:\u001b[0m\u001b[1;33m\u001b[0m\u001b[1;33m\u001b[0m\u001b[0m\n",
      "\u001b[1;32m~\\Anaconda3\\envs\\Py3_7\\lib\\site-packages\\tensorflow\\python\\eager\\function.py\u001b[0m in \u001b[0;36m_call_flat\u001b[1;34m(self, args, captured_inputs, cancellation_manager)\u001b[0m\n\u001b[0;32m   1922\u001b[0m       \u001b[1;31m# No tape is watching; skip to running the function.\u001b[0m\u001b[1;33m\u001b[0m\u001b[1;33m\u001b[0m\u001b[1;33m\u001b[0m\u001b[0m\n\u001b[0;32m   1923\u001b[0m       return self._build_call_outputs(self._inference_function.call(\n\u001b[1;32m-> 1924\u001b[1;33m           ctx, args, cancellation_manager=cancellation_manager))\n\u001b[0m\u001b[0;32m   1925\u001b[0m     forward_backward = self._select_forward_and_backward_functions(\n\u001b[0;32m   1926\u001b[0m         \u001b[0margs\u001b[0m\u001b[1;33m,\u001b[0m\u001b[1;33m\u001b[0m\u001b[1;33m\u001b[0m\u001b[0m\n",
      "\u001b[1;32m~\\Anaconda3\\envs\\Py3_7\\lib\\site-packages\\tensorflow\\python\\eager\\function.py\u001b[0m in \u001b[0;36mcall\u001b[1;34m(self, ctx, args, cancellation_manager)\u001b[0m\n\u001b[0;32m    548\u001b[0m               \u001b[0minputs\u001b[0m\u001b[1;33m=\u001b[0m\u001b[0margs\u001b[0m\u001b[1;33m,\u001b[0m\u001b[1;33m\u001b[0m\u001b[1;33m\u001b[0m\u001b[0m\n\u001b[0;32m    549\u001b[0m               \u001b[0mattrs\u001b[0m\u001b[1;33m=\u001b[0m\u001b[0mattrs\u001b[0m\u001b[1;33m,\u001b[0m\u001b[1;33m\u001b[0m\u001b[1;33m\u001b[0m\u001b[0m\n\u001b[1;32m--> 550\u001b[1;33m               ctx=ctx)\n\u001b[0m\u001b[0;32m    551\u001b[0m         \u001b[1;32melse\u001b[0m\u001b[1;33m:\u001b[0m\u001b[1;33m\u001b[0m\u001b[1;33m\u001b[0m\u001b[0m\n\u001b[0;32m    552\u001b[0m           outputs = execute.execute_with_cancellation(\n",
      "\u001b[1;32m~\\Anaconda3\\envs\\Py3_7\\lib\\site-packages\\tensorflow\\python\\eager\\execute.py\u001b[0m in \u001b[0;36mquick_execute\u001b[1;34m(op_name, num_outputs, inputs, attrs, ctx, name)\u001b[0m\n\u001b[0;32m     58\u001b[0m     \u001b[0mctx\u001b[0m\u001b[1;33m.\u001b[0m\u001b[0mensure_initialized\u001b[0m\u001b[1;33m(\u001b[0m\u001b[1;33m)\u001b[0m\u001b[1;33m\u001b[0m\u001b[1;33m\u001b[0m\u001b[0m\n\u001b[0;32m     59\u001b[0m     tensors = pywrap_tfe.TFE_Py_Execute(ctx._handle, device_name, op_name,\n\u001b[1;32m---> 60\u001b[1;33m                                         inputs, attrs, num_outputs)\n\u001b[0m\u001b[0;32m     61\u001b[0m   \u001b[1;32mexcept\u001b[0m \u001b[0mcore\u001b[0m\u001b[1;33m.\u001b[0m\u001b[0m_NotOkStatusException\u001b[0m \u001b[1;32mas\u001b[0m \u001b[0me\u001b[0m\u001b[1;33m:\u001b[0m\u001b[1;33m\u001b[0m\u001b[1;33m\u001b[0m\u001b[0m\n\u001b[0;32m     62\u001b[0m     \u001b[1;32mif\u001b[0m \u001b[0mname\u001b[0m \u001b[1;32mis\u001b[0m \u001b[1;32mnot\u001b[0m \u001b[1;32mNone\u001b[0m\u001b[1;33m:\u001b[0m\u001b[1;33m\u001b[0m\u001b[1;33m\u001b[0m\u001b[0m\n",
      "\u001b[1;31mKeyboardInterrupt\u001b[0m: "
     ]
    }
   ],
   "source": [
    "callback = keras.callbacks.EarlyStopping(patience=15, restore_best_weights=True)\n",
    "\n",
    "history = model.fit(train_datagen.flow(X_train, y_train), epochs=epochs, \n",
    "                validation_data=train_datagen.flow(X_test, y_test), \n",
    "                shuffle=True, batch_size=batch_size,\n",
    "                callbacks= callback)"
   ]
  },
  {
   "cell_type": "code",
   "execution_count": 16,
   "metadata": {},
   "outputs": [
    {
     "output_type": "stream",
     "name": "stdout",
     "text": [
      "313/313 [==============================] - 5s 17ms/step - loss: 1.5847 - accuracy: 0.4560\n"
     ]
    },
    {
     "output_type": "execute_result",
     "data": {
      "text/plain": [
       "[1.5847479104995728, 0.4560000002384186]"
      ]
     },
     "metadata": {},
     "execution_count": 16
    }
   ],
   "source": [
    "model.evaluate(X_test, y_test)"
   ]
  },
  {
   "source": [
    "# Transfer Learning"
   ],
   "cell_type": "markdown",
   "metadata": {}
  },
  {
   "cell_type": "code",
   "execution_count": null,
   "metadata": {},
   "outputs": [],
   "source": [
    "from tensorflow.keras.applications.inception_v3 import InceptionV3"
   ]
  },
  {
   "cell_type": "code",
   "execution_count": null,
   "metadata": {},
   "outputs": [],
   "source": [
    "pretrain = InceptionV3(include_top=False, \n",
    "                    weights='imagenet', \n",
    "                    input_shape=X_train[0].shape)"
   ]
  }
 ]
}